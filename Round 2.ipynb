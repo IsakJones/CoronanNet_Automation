{
 "cells": [
  {
   "cell_type": "code",
   "execution_count": 3,
   "metadata": {},
   "outputs": [],
   "source": [
    "import pandas as pd"
   ]
  },
  {
   "cell_type": "code",
   "execution_count": 1,
   "metadata": {},
   "outputs": [],
   "source": [
    "!open Final_Comments.xlsx"
   ]
  },
  {
   "cell_type": "code",
   "execution_count": 4,
   "metadata": {},
   "outputs": [
    {
     "data": {
      "text/html": [
       "<div>\n",
       "<style scoped>\n",
       "    .dataframe tbody tr th:only-of-type {\n",
       "        vertical-align: middle;\n",
       "    }\n",
       "\n",
       "    .dataframe tbody tr th {\n",
       "        vertical-align: top;\n",
       "    }\n",
       "\n",
       "    .dataframe thead th {\n",
       "        text-align: right;\n",
       "    }\n",
       "</style>\n",
       "<table border=\"1\" class=\"dataframe\">\n",
       "  <thead>\n",
       "    <tr style=\"text-align: right;\">\n",
       "      <th></th>\n",
       "      <th>Cells</th>\n",
       "    </tr>\n",
       "  </thead>\n",
       "  <tbody>\n",
       "    <tr>\n",
       "      <th>0</th>\n",
       "      <td>34644 \\n5670 \\n15410 \\n36389 \\n5679 \\n15416 \\n...</td>\n",
       "    </tr>\n",
       "    <tr>\n",
       "      <th>1</th>\n",
       "      <td>35670 \\n37166 \\n38939</td>\n",
       "    </tr>\n",
       "    <tr>\n",
       "      <th>2</th>\n",
       "      <td>35340 \\n35562 \\n5885 \\n38876 \\n39146 \\n5887 \\n...</td>\n",
       "    </tr>\n",
       "    <tr>\n",
       "      <th>3</th>\n",
       "      <td>35756 \\n35754 \\n6205 \\n6204 \\n6211 \\n39645 \\n1...</td>\n",
       "    </tr>\n",
       "    <tr>\n",
       "      <th>4</th>\n",
       "      <td>34754 \\n37991 \\n39207 \\n40644 \\n40642 \\n41711 ...</td>\n",
       "    </tr>\n",
       "    <tr>\n",
       "      <th>5</th>\n",
       "      <td>15926 \\n35361 \\n35767 \\n15941 \\n15945 \\n38808 ...</td>\n",
       "    </tr>\n",
       "    <tr>\n",
       "      <th>6</th>\n",
       "      <td>NaN</td>\n",
       "    </tr>\n",
       "    <tr>\n",
       "      <th>7</th>\n",
       "      <td>3037 \\n3040 \\n3105 \\n3051 \\n3055 \\n38778 \\n387...</td>\n",
       "    </tr>\n",
       "    <tr>\n",
       "      <th>8</th>\n",
       "      <td>35807 \\n36002 \\n8908 \\n16685 \\n37121 \\n8913 \\n...</td>\n",
       "    </tr>\n",
       "    <tr>\n",
       "      <th>9</th>\n",
       "      <td>35614 \\n9954 \\n16996 \\n9960 \\n39272 \\n16999 \\n...</td>\n",
       "    </tr>\n",
       "    <tr>\n",
       "      <th>10</th>\n",
       "      <td>17236 \\n34457 \\n33284 \\n10376 \\n10375 \\n39822 ...</td>\n",
       "    </tr>\n",
       "    <tr>\n",
       "      <th>11</th>\n",
       "      <td>36425 \\n9056 \\n39735 \\n39737 \\n9054 \\n41800 \\n...</td>\n",
       "    </tr>\n",
       "    <tr>\n",
       "      <th>12</th>\n",
       "      <td>36176 \\n36438 \\n36621 \\n36622 \\n36894 \\n37666 ...</td>\n",
       "    </tr>\n",
       "    <tr>\n",
       "      <th>13</th>\n",
       "      <td>33164 \\n33162 \\n33148 \\n33147 \\n12365 \\n33160 ...</td>\n",
       "    </tr>\n",
       "    <tr>\n",
       "      <th>14</th>\n",
       "      <td>18064 \\n36913 \\n37867 \\n12557 \\n37914 \\n38355 ...</td>\n",
       "    </tr>\n",
       "    <tr>\n",
       "      <th>15</th>\n",
       "      <td>13118 \\n13130 \\n13135 \\n39841 \\n13148 \\n13150</td>\n",
       "    </tr>\n",
       "  </tbody>\n",
       "</table>\n",
       "</div>"
      ],
      "text/plain": [
       "                                                Cells\n",
       "0   34644 \\n5670 \\n15410 \\n36389 \\n5679 \\n15416 \\n...\n",
       "1                               35670 \\n37166 \\n38939\n",
       "2   35340 \\n35562 \\n5885 \\n38876 \\n39146 \\n5887 \\n...\n",
       "3   35756 \\n35754 \\n6205 \\n6204 \\n6211 \\n39645 \\n1...\n",
       "4   34754 \\n37991 \\n39207 \\n40644 \\n40642 \\n41711 ...\n",
       "5   15926 \\n35361 \\n35767 \\n15941 \\n15945 \\n38808 ...\n",
       "6                                                 NaN\n",
       "7   3037 \\n3040 \\n3105 \\n3051 \\n3055 \\n38778 \\n387...\n",
       "8   35807 \\n36002 \\n8908 \\n16685 \\n37121 \\n8913 \\n...\n",
       "9   35614 \\n9954 \\n16996 \\n9960 \\n39272 \\n16999 \\n...\n",
       "10  17236 \\n34457 \\n33284 \\n10376 \\n10375 \\n39822 ...\n",
       "11  36425 \\n9056 \\n39735 \\n39737 \\n9054 \\n41800 \\n...\n",
       "12  36176 \\n36438 \\n36621 \\n36622 \\n36894 \\n37666 ...\n",
       "13  33164 \\n33162 \\n33148 \\n33147 \\n12365 \\n33160 ...\n",
       "14  18064 \\n36913 \\n37867 \\n12557 \\n37914 \\n38355 ...\n",
       "15      13118 \\n13130 \\n13135 \\n39841 \\n13148 \\n13150"
      ]
     },
     "execution_count": 4,
     "metadata": {},
     "output_type": "execute_result"
    }
   ],
   "source": [
    "df = pd.read_excel(\"Final_Comments.xlsx\", header = None)\n",
    "df.columns = [\"Cells\"]\n",
    "WHO = pd.read_csv(\"WHO.csv\", index_col = \"NUMBER\")\n",
    "df"
   ]
  },
  {
   "cell_type": "code",
   "execution_count": 6,
   "metadata": {},
   "outputs": [],
   "source": [
    "def is_number(x):\n",
    "        try:\n",
    "            int(x)\n",
    "            return True\n",
    "        except ValueError:\n",
    "            return False\n",
    "\n",
    "def formatlink(link):\n",
    "    if \"\\n\\n\" in link:\n",
    "        link = link.replace(\"\\n\\n\", \"  OR  \")\n",
    "    elif \"\\n\" in link:\n",
    "        link = link.replace(\"\\n\", \"  OR  \")\n",
    "    return link\n",
    "        \n",
    "def formatval(val):\n",
    "    if len(str(val)) == 0:\n",
    "        return val\n",
    "    if str(val) == \"0\":\n",
    "        return \"No missing entries. Hurray!\"\n",
    "    L = str(val).split(\"\\n\")\n",
    "    if len(L) == 1:\n",
    "        if \"N/A\" in L[0] or str(val) == \"nan\":\n",
    "            return \"N/A\"\n",
    "        elif \"there is\" in L[0].lower():\n",
    "            return val\n",
    "        cell = \"1 entry missing from CoronaNet.\"\n",
    "    else:\n",
    "        if \"WARNING\" in L[0]:\n",
    "            cell = L[0] + \"\\n\" + str(len(L) - 1) + \" entries missing from CoronaNet.\"\n",
    "            L = L[1:]\n",
    "        else:\n",
    "            cell = str(len(L)) + \" entries missing from CoronaNet.\"\n",
    "    cell += \"\\nWHO_ID#\\tSTART_DATE\\tSCOPE\\tPOLICY\\tLINK\\n\"\n",
    "    for line in L:\n",
    "        number = int(line)\n",
    "        date = str(WHO.loc[number, \"DATE_START\"])\n",
    "        scope = str(WHO.loc[number, \"ADMIN_LEVEL\"])\n",
    "        if scope != \"national\":\n",
    "            if str(WHO.loc[number, \"AREA_COVERED\"]) != \"\":\n",
    "                scope = str(WHO.loc[number, \"AREA_COVERED\"])\n",
    "        measure = str(WHO.loc[number, \"PROV_MEASURE\"])\n",
    "        link = formatlink(str(WHO.loc[number, \"LINK\"]))\n",
    "        space = \" \"\n",
    "        if is_number(measure[1]):\n",
    "            measure = measure[4:-3]\n",
    "        else:\n",
    "            measure = space + measure\n",
    "        cell += str(number) + space + date + space + scope + measure + space + link + \"\\n\"\n",
    "    return cell \n",
    "\n",
    "pd.set_option(\"max_colwidth\", None)\n",
    "df.applymap(formatval).to_excel(\"Final_Comments.xlsx\")"
   ]
  },
  {
   "cell_type": "code",
   "execution_count": 7,
   "metadata": {},
   "outputs": [],
   "source": [
    "!open Final_Comments.xlsx"
   ]
  },
  {
   "cell_type": "code",
   "execution_count": 45,
   "metadata": {},
   "outputs": [],
   "source": [
    "!open Uhhh.xlsx"
   ]
  },
  {
   "cell_type": "code",
   "execution_count": 53,
   "metadata": {},
   "outputs": [
    {
     "data": {
      "text/plain": [
       "'nan'"
      ]
     },
     "execution_count": 53,
     "metadata": {},
     "output_type": "execute_result"
    }
   ],
   "source": [
    "str(df.loc[5, \"Cells\"])"
   ]
  },
  {
   "cell_type": "code",
   "execution_count": null,
   "metadata": {},
   "outputs": [],
   "source": []
  }
 ],
 "metadata": {
  "kernelspec": {
   "display_name": "Python 3",
   "language": "python",
   "name": "python3"
  },
  "language_info": {
   "codemirror_mode": {
    "name": "ipython",
    "version": 3
   },
   "file_extension": ".py",
   "mimetype": "text/x-python",
   "name": "python",
   "nbconvert_exporter": "python",
   "pygments_lexer": "ipython3",
   "version": "3.7.6"
  }
 },
 "nbformat": 4,
 "nbformat_minor": 4
}
